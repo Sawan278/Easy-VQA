{
 "cells": [
  {
   "cell_type": "markdown",
   "id": "6762e88a",
   "metadata": {},
   "source": [
    "## IMPORTING ALL THE NECESSARY PACKAGES"
   ]
  },
  {
   "cell_type": "code",
   "execution_count": 1,
   "id": "1d2d0ead",
   "metadata": {},
   "outputs": [],
   "source": [
    "from tensorflow.keras.models import Model\n",
    "from tensorflow.keras.layers import Input, Dense, Conv2D, MaxPooling2D, Flatten, Multiply\n",
    "from tensorflow.keras.optimizers import Adam\n",
    "\n",
    "from tensorflow.keras.preprocessing.text import Tokenizer\n",
    "from tensorflow.keras.preprocessing.image import load_img, img_to_array\n",
    "from tensorflow.keras.utils import to_categorical\n",
    "import json\n",
    "import os\n",
    "import numpy as np\n",
    "import pandas as pd\n",
    "import matplotlib.pyplot as plt\n",
    "import seaborn as sns\n",
    "\n",
    "from tensorflow.keras.callbacks import ModelCheckpoint\n",
    "import argparse"
   ]
  },
  {
   "cell_type": "markdown",
   "id": "96d5b075",
   "metadata": {},
   "source": [
    "## BUILDING OUR WORKING MODEL"
   ]
  },
  {
   "cell_type": "code",
   "execution_count": 2,
   "id": "0f69fc3a",
   "metadata": {},
   "outputs": [],
   "source": [
    "def build_model(im_shape, vocab_size, num_answers):\n",
    "  #The CNN model\n",
    "  im_input = Input(shape=im_shape)\n",
    "  x1 = Conv2D(8, 3, padding='same')(im_input)\n",
    "  x1 = MaxPooling2D()(x1)\n",
    "  x1 = Conv2D(16, 3, padding='same')(x1)\n",
    "  x1 = MaxPooling2D()(x1)\n",
    "  x1 = Flatten()(x1)\n",
    "  # Adding two fully-connected layers after the CNN for good measure\n",
    "  x1 = Dense(32, activation='tanh')(x1)\n",
    "  x1 = Dense(32, activation='tanh')(x1)\n",
    "  \n",
    "  # A simple question network formed by three fully-connected layers\n",
    "  q_input = Input(shape=(vocab_size,))\n",
    "  x2 = Dense(32, activation='tanh')(q_input)\n",
    "  x2 = Dense(32, activation='tanh')(x2)\n",
    "  x2 = Dense(32, activation='tanh')(x2)\n",
    "\n",
    "  # The processed image and the processed question is merged\n",
    "  out = Multiply()([x1, x2])\n",
    "  out = Dense(32, activation='tanh')(out)\n",
    "  out = Dense(32, activation='tanh')(out)\n",
    "  out = Dense(num_answers, activation='softmax')(out)\n",
    "\n",
    "  model = Model(inputs=[im_input, q_input], outputs=out)\n",
    "  model.compile(Adam(learning_rate=5e-4), loss='categorical_crossentropy', metrics=['accuracy'])\n",
    "\n",
    "  return model"
   ]
  },
  {
   "cell_type": "markdown",
   "id": "34ce3896",
   "metadata": {},
   "source": [
    "## GETTING THE FREQUENCY OF EACH ANSWER IN THE DATASET"
   ]
  },
  {
   "cell_type": "code",
   "execution_count": 3,
   "id": "4cbd1151",
   "metadata": {},
   "outputs": [
    {
     "data": {
      "text/plain": [
       "Text(0.5, 0, 'Frequency of answers')"
      ]
     },
     "execution_count": 3,
     "metadata": {},
     "output_type": "execute_result"
    },
    {
     "data": {
      "image/png": "[encoded data removed]",
      "text/plain": [
       "<Figure size 792x360 with 1 Axes>"
      ]
     },
     "metadata": {
      "needs_background": "light"
     },
     "output_type": "display_data"
    }
   ],
   "source": [
    "def read_questions(path):\n",
    "      with open(path, 'r') as file:\n",
    "        qs = json.load(file)\n",
    "      ques = [q[0] for q in qs]\n",
    "      ans = [q[1] for q in qs]\n",
    "      image_ids = [q[2] for q in qs]\n",
    "      return (ques, ans, image_ids)\n",
    "    \n",
    "train_qs, train_ans, train_image_ids = read_questions('data/train/questions.json')\n",
    "valid_qs, valid_ans, valid_image_ids = read_questions('data/validation/questions.json')\n",
    "test_qs, test_ans, test_image_ids = read_questions('data/test/questions.json')\n",
    "\n",
    "ans_tot=train_ans+valid_ans+test_ans\n",
    "plt.figure(figsize=(11,5))\n",
    "plt.title(\"Frequency of each answer\")\n",
    "plt.ylabel(\"Answers\")\n",
    "sns.countplot(y=ans_tot)\n",
    "plt.xlabel(\"Frequency of answers\")"
   ]
  },
  {
   "cell_type": "markdown",
   "id": "57e5edb9",
   "metadata": {},
   "source": [
    "## DATA PREPROCESSING"
   ]
  },
  {
   "cell_type": "code",
   "execution_count": 4,
   "id": "a8369232",
   "metadata": {},
   "outputs": [],
   "source": [
    "def setup(use_data_dir):\n",
    "    print('\\n--- Reading questions...')\n",
    "    # Read data from data/ folder\n",
    "    def read_questions(path):\n",
    "      with open(path, 'r') as file:\n",
    "        qs = json.load(file)\n",
    "      texts = [q[0] for q in qs]\n",
    "      answers = [q[1] for q in qs]\n",
    "      image_ids = [q[2] for q in qs]\n",
    "      return (texts, answers, image_ids)\n",
    "    \n",
    "    train_qs, train_answers, train_image_ids = read_questions('data/train/questions.json')\n",
    "    valid_qs, valid_answers, valid_image_ids = read_questions('data/validation/questions.json')\n",
    "    test_qs, test_answers, test_image_ids = read_questions('data/test/questions.json')\n",
    "  \n",
    "    print(f'Read {len(train_qs)} training questions, {len(valid_qs)} validation questions and {len(test_qs)} testing questions.')\n",
    "\n",
    "    print('\\n--- Reading answers...')\n",
    "    # Read answers from data/ folder\n",
    "    with open('data/answers.txt', 'r') as file:\n",
    "        all_answers = [a.strip() for a in file]\n",
    "    \n",
    "    num_answers = len(all_answers)\n",
    "    print(f'Found {num_answers} total answers:')\n",
    "    print(all_answers)\n",
    "\n",
    "    print('\\n--- Reading/processing images...')\n",
    "    def load_and_proccess_image(image_path):\n",
    "        # Load image, then scale and shift pixel values to [-0.5, 0.5]\n",
    "        im = img_to_array(load_img(image_path))\n",
    "        return im / 255 - 0.5\n",
    "\n",
    "    def read_images(paths):\n",
    "        # paths is a dict mapping image ID to image path\n",
    "        # Returns a dict mapping image ID to the processed image\n",
    "        ims = {}\n",
    "        for image_id, image_path in paths.items():\n",
    "            ims[image_id] = load_and_proccess_image(image_path)\n",
    "        return ims\n",
    "\n",
    "    # Read images from data/ folder\n",
    "    def extract_paths(dir):\n",
    "        paths = {}\n",
    "        for filename in os.listdir(dir):\n",
    "            if filename.endswith('.png'):\n",
    "                image_id = int(filename[:-4])\n",
    "                paths[image_id] = os.path.join(dir, filename)\n",
    "        return paths\n",
    "\n",
    "    train_ims = read_images(extract_paths('data/train/images'))\n",
    "    valid_ims = read_images(extract_paths('data/validation/images'))\n",
    "    test_ims  = read_images(extract_paths('data/test/images'))\n",
    "  \n",
    "    im_shape = train_ims[0].shape\n",
    "    print(f'Read {len(train_ims)} training images, {len(valid_ims)} validation images and {len(test_ims)} testing images.')\n",
    "    print(f'Each image has shape {im_shape}.')\n",
    "\n",
    "\n",
    "    print('\\n--- Fitting question tokenizer...')\n",
    "    tokenizer = Tokenizer()\n",
    "    tokenizer.fit_on_texts(train_qs)\n",
    "\n",
    "    # We add one because the Keras Tokenizer reserves index 0 and never uses it.\n",
    "    vocab_size = len(tokenizer.word_index) + 1\n",
    "    print(f'Vocab Size: {vocab_size}')\n",
    "    print(tokenizer.word_index)\n",
    "\n",
    "\n",
    "    print('\\n--- Converting questions to bags of words...')\n",
    "    train_X_seqs = tokenizer.texts_to_matrix(train_qs)\n",
    "    valid_X_seqs = tokenizer.texts_to_matrix(valid_qs)\n",
    "    test_X_seqs = tokenizer.texts_to_matrix(test_qs)\n",
    "    print(f'Example question bag of words: {train_X_seqs[0]}')\n",
    "\n",
    "\n",
    "    print('\\n--- Creating model input images...')\n",
    "    train_X_ims = np.array([train_ims[id] for id in train_image_ids])\n",
    "    valid_X_ims = np.array([valid_ims[id] for id in valid_image_ids])\n",
    "    test_X_ims = np.array([test_ims[id] for id in test_image_ids])\n",
    "\n",
    "\n",
    "    print('\\n--- Creating model outputs...')\n",
    "    train_answer_indices = [all_answers.index(a) for a in train_answers]\n",
    "    valid_answer_indices = [all_answers.index(a) for a in valid_answers]\n",
    "    test_answer_indices = [all_answers.index(a) for a in test_answers]\n",
    "  \n",
    "    train_Y = to_categorical(train_answer_indices)\n",
    "    valid_Y = to_categorical(valid_answer_indices)\n",
    "    test_Y = to_categorical(test_answer_indices)\n",
    "    print(f'Example model output: {train_Y[0]}')\n",
    "\n",
    "    return (train_X_ims, train_X_seqs, train_Y, test_X_ims, test_X_seqs,\n",
    "          test_Y, im_shape, vocab_size, num_answers,\n",
    "          all_answers, test_qs, test_answer_indices, valid_X_ims, valid_X_seqs, valid_Y)"
   ]
  },
  {
   "cell_type": "markdown",
   "id": "e7c28736",
   "metadata": {},
   "source": [
    "## TRAINING OUR MODEL HERE"
   ]
  },
  {
   "cell_type": "code",
   "execution_count": 5,
   "id": "2015c07f",
   "metadata": {},
   "outputs": [
    {
     "name": "stdout",
     "output_type": "stream",
     "text": [
      "\n",
      "--- Reading questions...\n",
      "Read 28833 training questions, 9742 validation questions and 9673 testing questions.\n",
      "\n",
      "--- Reading answers...\n",
      "Found 13 total answers:\n",
      "['circle', 'green', 'red', 'gray', 'yes', 'teal', 'black', 'rectangle', 'yellow', 'triangle', 'brown', 'blue', 'no']\n",
      "\n",
      "--- Reading/processing images...\n",
      "Read 3000 training images, 1000 validation images and 1000 testing images.\n",
      "Each image has shape (64, 64, 3).\n",
      "\n",
      "--- Fitting question tokenizer...\n",
      "Vocab Size: 27\n",
      "{'is': 1, 'shape': 2, 'the': 3, 'a': 4, 'image': 5, 'there': 6, 'not': 7, 'what': 8, 'present': 9, 'does': 10, 'contain': 11, 'in': 12, 'color': 13, 'no': 14, 'rectangle': 15, 'circle': 16, 'triangle': 17, 'brown': 18, 'yellow': 19, 'gray': 20, 'teal': 21, 'green': 22, 'black': 23, 'blue': 24, 'red': 25, 'of': 26}\n",
      "\n",
      "--- Converting questions to bags of words...\n",
      "Example question bag of words: [0. 1. 1. 1. 0. 0. 0. 0. 1. 0. 0. 0. 0. 0. 0. 0. 0. 0. 0. 0. 0. 0. 0. 0.\n",
      " 1. 0. 0.]\n",
      "\n",
      "--- Creating model input images...\n",
      "\n",
      "--- Creating model outputs...\n",
      "Example model output: [0. 0. 0. 0. 0. 0. 0. 1. 0. 0. 0. 0. 0.]\n",
      "\n",
      "--- Building model...\n",
      "\n",
      "--- Training model...\n",
      "Epoch 1/15\n",
      "902/902 [==============================] - 21s 23ms/step - loss: 0.9116 - accuracy: 0.6401 - val_loss: 0.7667 - val_accuracy: 0.6617\n",
      "Epoch 2/15\n",
      "  7/902 [..............................] - ETA: 18s - loss: 0.8190 - accuracy: 0.6473"
     ]
    },
    {
     "name": "stderr",
     "output_type": "stream",
     "text": [
      "c:\\users\\sawan aich\\appdata\\local\\programs\\python\\python38\\lib\\site-packages\\tensorflow\\python\\keras\\utils\\generic_utils.py:494: CustomMaskWarning: Custom mask layers require a config and must override get_config. When loading, the custom mask layer must be passed to the custom_objects argument.\n",
      "  warnings.warn('Custom mask layers require a config and must override '\n"
     ]
    },
    {
     "name": "stdout",
     "output_type": "stream",
     "text": [
      "902/902 [==============================] - 20s 22ms/step - loss: 0.7620 - accuracy: 0.6642 - val_loss: 0.7621 - val_accuracy: 0.6617\n",
      "Epoch 3/15\n",
      "902/902 [==============================] - 20s 22ms/step - loss: 0.7545 - accuracy: 0.6667 - val_loss: 0.7280 - val_accuracy: 0.6805\n",
      "Epoch 4/15\n",
      "902/902 [==============================] - 20s 22ms/step - loss: 0.6791 - accuracy: 0.6968 - val_loss: 0.6321 - val_accuracy: 0.7050\n",
      "Epoch 5/15\n",
      "902/902 [==============================] - 20s 22ms/step - loss: 0.5792 - accuracy: 0.7268 - val_loss: 0.5567 - val_accuracy: 0.7254\n",
      "Epoch 6/15\n",
      "902/902 [==============================] - 20s 23ms/step - loss: 0.5089 - accuracy: 0.7537 - val_loss: 0.4949 - val_accuracy: 0.7499\n",
      "Epoch 7/15\n",
      "902/902 [==============================] - 20s 22ms/step - loss: 0.4432 - accuracy: 0.7757 - val_loss: 0.4428 - val_accuracy: 0.7728\n",
      "Epoch 8/15\n",
      "902/902 [==============================] - 20s 23ms/step - loss: 0.3862 - accuracy: 0.8066 - val_loss: 0.4079 - val_accuracy: 0.8039\n",
      "Epoch 9/15\n",
      "902/902 [==============================] - 20s 22ms/step - loss: 0.3444 - accuracy: 0.8351 - val_loss: 0.3791 - val_accuracy: 0.8162\n",
      "Epoch 10/15\n",
      "902/902 [==============================] - 20s 22ms/step - loss: 0.3111 - accuracy: 0.8485 - val_loss: 0.3764 - val_accuracy: 0.8143\n",
      "Epoch 11/15\n",
      "902/902 [==============================] - 20s 22ms/step - loss: 0.2940 - accuracy: 0.8543 - val_loss: 0.3706 - val_accuracy: 0.8197\n",
      "Epoch 12/15\n",
      "902/902 [==============================] - 20s 23ms/step - loss: 0.2814 - accuracy: 0.8589 - val_loss: 0.3614 - val_accuracy: 0.8231\n",
      "Epoch 13/15\n",
      "902/902 [==============================] - 20s 22ms/step - loss: 0.2739 - accuracy: 0.8640 - val_loss: 0.3933 - val_accuracy: 0.8146\n",
      "Epoch 14/15\n",
      "902/902 [==============================] - 20s 22ms/step - loss: 0.2617 - accuracy: 0.8698 - val_loss: 0.3743 - val_accuracy: 0.8244\n",
      "Epoch 15/15\n",
      "902/902 [==============================] - 20s 22ms/step - loss: 0.2531 - accuracy: 0.8761 - val_loss: 0.3903 - val_accuracy: 0.8254\n"
     ]
    }
   ],
   "source": [
    "# Support command-line options\n",
    "parser = argparse.ArgumentParser()\n",
    "parser.add_argument('--use-data-dir', action='store_true', help='Use custom data directory, at /data')\n",
    "parser.add_argument('-f')\n",
    "args = parser.parse_args()\n",
    "\n",
    "if args.use_data_dir:\n",
    "  print('Using data directory')\n",
    "\n",
    "# Prepare data\n",
    "train_X_ims, train_X_seqs, train_Y, test_X_ims, test_X_seqs, test_Y, im_shape, vocab_size, num_answers, _, _, _, valid_X_ims, valid_X_seqs, valid_Y = setup(args.use_data_dir)\n",
    "\n",
    "print('\\n--- Building model...')\n",
    "model = build_model(im_shape, vocab_size, num_answers)\n",
    "checkpoint = ModelCheckpoint('model.h5', save_best_only=True)\n",
    "\n",
    "print('\\n--- Training model...')\n",
    "Hist=model.fit(\n",
    "  [train_X_ims, train_X_seqs],\n",
    "  train_Y,\n",
    "  validation_data=([valid_X_ims, valid_X_seqs], valid_Y),\n",
    "  shuffle=True,\n",
    "  epochs=15,\n",
    "  callbacks=[checkpoint],\n",
    ")"
   ]
  },
  {
   "cell_type": "markdown",
   "id": "4d27a2a2",
   "metadata": {},
   "source": [
    "## LOADING THE SAVED MODEL"
   ]
  },
  {
   "cell_type": "code",
   "execution_count": 10,
   "id": "79380594",
   "metadata": {},
   "outputs": [],
   "source": [
    "from tensorflow.keras.models import load_model\n",
    "model1=load_model(r'./model.h5')"
   ]
  },
  {
   "cell_type": "markdown",
   "id": "87bda439",
   "metadata": {},
   "source": [
    "## SHOWING THE PLOTS FOR LOSS AND ACCURACY"
   ]
  },
  {
   "cell_type": "code",
   "execution_count": 6,
   "id": "9b87092d",
   "metadata": {},
   "outputs": [
    {
     "data": {
      "image/png": "[encoded data removed]",
      "text/plain": [
       "<Figure size 432x288 with 1 Axes>"
      ]
     },
     "metadata": {
      "needs_background": "light"
     },
     "output_type": "display_data"
    },
    {
     "data": {
      "image/png": "[encoded data removed]",
      "text/plain": [
       "<Figure size 432x288 with 1 Axes>"
      ]
     },
     "metadata": {
      "needs_background": "light"
     },
     "output_type": "display_data"
    }
   ],
   "source": [
    "plt.plot(Hist.history['loss'],\"r*-\",label=\"train loss\")\n",
    "plt.plot(Hist.history['val_loss'],\"g.-\",label=\"validation loss\")\n",
    "plt.legend()\n",
    "plt.title(\"Loss after 15 epochs of training and validation\")\n",
    "plt.show()\n",
    "plt.plot(Hist.history['accuracy'],\"r*-\",label=\"train accuracy\")\n",
    "plt.plot(Hist.history['val_accuracy'],\"g.-\",label=\"validation accuracy\")\n",
    "plt.legend()\n",
    "plt.title(\"Accuracy after 15 epochs of training and validation\")\n",
    "plt.show()"
   ]
  },
  {
   "cell_type": "markdown",
   "id": "8b25dc38",
   "metadata": {},
   "source": [
    "## ACTUAL CODE FOR PREDICTION STARTS HERE"
   ]
  },
  {
   "cell_type": "code",
   "execution_count": 12,
   "id": "d9d38ac1",
   "metadata": {},
   "outputs": [],
   "source": [
    "def predict(image):\n",
    "    \n",
    "    with open('data/answers.txt', 'r') as file:\n",
    "        all_answers = [a.strip() for a in file]\n",
    "    \n",
    "    def read_questions(path):\n",
    "        with open(path, 'r') as file:\n",
    "            qs = json.load(file)\n",
    "        texts = [q[0] for q in qs]\n",
    "        answers = [q[1] for q in qs]\n",
    "        image_ids = [q[2] for q in qs]\n",
    "        return (texts, answers, image_ids)\n",
    "\n",
    "    test_qs, test_answers, test_image_ids = read_questions('data/test/questions.json')\n",
    "\n",
    "    #print('\\n--- Reading/processing images...')\n",
    "    def load_and_proccess_image(image_path):\n",
    "        # Load image, then scale and shift pixel values to [-0.5, 0.5]\n",
    "        im = img_to_array(load_img(image_path))\n",
    "        return im / 255 - 0.5\n",
    "\n",
    "    def read_images(paths):\n",
    "        # paths is a dict mapping image ID to image path\n",
    "        # Returns a dict mapping image ID to the processed image\n",
    "        ims = {}\n",
    "        for image_id, image_path in paths.items():\n",
    "            ims[image_id] = load_and_proccess_image(image_path)\n",
    "        return ims\n",
    "\n",
    "    # Read images from data/ folder\n",
    "    def extract_paths(dir):\n",
    "        paths = {}\n",
    "        for filename in os.listdir(dir):\n",
    "            if filename.endswith('.png'):\n",
    "                image_id = int(filename[:-4])\n",
    "                paths[image_id] = os.path.join(dir, filename)\n",
    "        return paths\n",
    "\n",
    "    test_ims  = read_images(extract_paths('data/test/images'))\n",
    "\n",
    "    tokenizer = Tokenizer()\n",
    "    tokenizer.fit_on_texts(test_qs)\n",
    "\n",
    "    # We add one because the Keras Tokenizer reserves index 0 and never uses it.\n",
    "    vocab_size = len(tokenizer.word_index) + 1\n",
    "\n",
    "    #print('\\n--- Converting questions to bags of words...')\n",
    "    test_X_seqs = tokenizer.texts_to_matrix(test_qs)\n",
    "\n",
    "    #print('\\n--- Creating model input images...')\n",
    "    test_X_ims = np.array([test_ims[id] for id in test_image_ids])\n",
    "    \n",
    "    #storing all the answers in an array form\n",
    "    ans=np.array(all_answers)\n",
    "\n",
    "    #storing all the question indexes where that particular image has been found\n",
    "    ind=np.where(np.array(test_image_ids)==int(image[:-4]))\n",
    "    \n",
    "    #getting the final image and resizing it for making it compatible\n",
    "    final_testing_image = test_X_ims[ind[0][0]]\n",
    "    final_test_im = final_testing_image.reshape((1,64,64,3))\n",
    "    \n",
    "    #core prediction part starts here\n",
    "    print(\"If you want to ask a question from a pre-defined set of questions, enter 1\")\n",
    "    print(\"If you want to ask a question on your own, enter 2\")\n",
    "    choice = int(input(\"Enter your value here : \"))\n",
    "    \n",
    "    if choice == 1:\n",
    "    \n",
    "        #showing all possible questions related to the randomly generated image\n",
    "        print(\"Pre-defined questions related to this image are as follows :\")\n",
    "        df=pd.DataFrame(np.array(test_qs)[ind],columns=[\"Questions\"])\n",
    "        print(df)\n",
    "        num=int(input(\"Enter a question index : \"))\n",
    "\n",
    "        final_testing_qs = test_X_seqs[ind[0][0] + num]\n",
    "        final_test_qs = final_testing_qs.reshape((1,27))\n",
    "                \n",
    "    elif choice == 2:\n",
    "        \n",
    "        final_testing_qs= input(\"Enter your question here : \")\n",
    "        #print('\\n--- Converting questions to bags of words...')\n",
    "        final_test_qs = tokenizer.texts_to_matrix([final_testing_qs])\n",
    "        \n",
    "    else:\n",
    "        return \"WRONG CHOICE!! TRY AGAIN\"\n",
    "        \n",
    "    #final prediction to be done\n",
    "    final_output = model1.predict([final_test_im, final_test_qs])\n",
    "    max_outputs=np.sort(final_output[0])[-3:][::-1]\n",
    "    indices=np.argsort(final_output[0])[-3:][::-1]\n",
    "    final_answer=ans[[i for i in indices]]\n",
    "    \n",
    "    #plotting top 3 probable answers for the asked question\n",
    "    top_outputs = sns.barplot(x=max_outputs*100,y=final_answer)\n",
    "    \n",
    "    #can be implemented using a loop as per number of outputs\n",
    "    top_outputs.annotate(round(max_outputs[0]*100,2),xy=(max_outputs[0]*100-10,0))\n",
    "    top_outputs.annotate(round(max_outputs[1]*100,2),xy=(max_outputs[1]*100,1))\n",
    "    top_outputs.annotate(round(max_outputs[2]*100,2),xy=(max_outputs[2]*100,2))\n",
    "    \n",
    "    plt.title(\"Predicted top 3 answers with confidence\")\n",
    "    plt.xlabel(\"Confidence (in %)\", size=14)\n",
    "    plt.ylabel(\"Probable Answers\", size=14)\n",
    "    \n",
    "    \n",
    "    return top_outputs"
   ]
  },
  {
   "cell_type": "markdown",
   "id": "e01b267c",
   "metadata": {},
   "source": [
    "## TESTING ON A RANDOMLY GENERATED IMAGE FROM THE TEST SET"
   ]
  },
  {
   "cell_type": "code",
   "execution_count": 18,
   "id": "c5acb804",
   "metadata": {},
   "outputs": [
    {
     "data": {
      "text/plain": [
       "Text(0.5, 1.0, 'Test Image')"
      ]
     },
     "execution_count": 18,
     "metadata": {},
     "output_type": "execute_result"
    },
    {
     "data": {
      "image/png": "[encoded data removed]",
      "text/plain": [
       "<Figure size 432x288 with 1 Axes>"
      ]
     },
     "metadata": {
      "needs_background": "light"
     },
     "output_type": "display_data"
    }
   ],
   "source": [
    "import random, os\n",
    "import matplotlib.pyplot as plt\n",
    "from PIL import Image\n",
    "\n",
    "path = r'data/test/images'\n",
    "random_filename = random.choice([\n",
    "    x for x in os.listdir(path)\n",
    "    if os.path.isfile(os.path.join(path, x))\n",
    "])\n",
    "random_filename\n",
    "im = Image.open(path+'/'+random_filename)\n",
    "plt.imshow(im)\n",
    "plt.title(\"Test Image\")"
   ]
  },
  {
   "cell_type": "markdown",
   "id": "485bcfee",
   "metadata": {},
   "source": [
    "## PREDICTING THE ANSWER HERE"
   ]
  },
  {
   "cell_type": "code",
   "execution_count": 22,
   "id": "949e3895",
   "metadata": {},
   "outputs": [
    {
     "name": "stdout",
     "output_type": "stream",
     "text": [
      "If you want to ask a question from a pre-defined set of questions, enter 1\n",
      "If you want to ask a question on your own, enter 2\n",
      "Enter your value here : 1\n",
      "Pre-defined questions related to this image are as follows :\n",
      "                                Questions\n",
      "0             what shape is in the image?\n",
      "1               what color is the circle?\n",
      "2        what is the color of the circle?\n",
      "3                what color is the shape?\n",
      "4                   is there a rectangle?\n",
      "5  is there not a rectangle in the image?\n",
      "6                    is there a triangle?\n",
      "7    is there a black shape in the image?\n",
      "8              is no green shape present?\n",
      "9               is no blue shape present?\n",
      "Enter a question index : 7\n",
      "AxesSubplot(0.125,0.125;0.775x0.755)\n"
     ]
    },
    {
     "data": {
      "image/png": "[encoded data removed]",
      "text/plain": [
       "<Figure size 432x288 with 1 Axes>"
      ]
     },
     "metadata": {
      "needs_background": "light"
     },
     "output_type": "display_data"
    }
   ],
   "source": [
    "prediction=predict(random_filename)\n",
    "# print(\"Predicted top 3 answers with confidence : \")\n",
    "print(prediction)"
   ]
  }
 ],
 "metadata": {
  "kernelspec": {
   "display_name": "Python 3",
   "language": "python",
   "name": "python3"
  },
  "language_info": {
   "codemirror_mode": {
    "name": "ipython",
    "version": 3
   },
   "file_extension": ".py",
   "mimetype": "text/x-python",
   "name": "python",
   "nbconvert_exporter": "python",
   "pygments_lexer": "ipython3",
   "version": "3.8.9"
  }
 },
 "nbformat": 4,
 "nbformat_minor": 5
}
